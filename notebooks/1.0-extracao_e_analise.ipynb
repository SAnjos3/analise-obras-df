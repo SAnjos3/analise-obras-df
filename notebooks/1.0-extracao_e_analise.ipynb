{
 "cells": [
  {
   "cell_type": "code",
   "execution_count": 1,
   "id": "2106b860",
   "metadata": {},
   "outputs": [],
   "source": [
    "import requests\n",
    "import pandas as pd\n",
    "import json\n",
    "import time\n",
    "import matplotlib.pyplot as plt\n",
    "import seaborn as sns\n",
    "from IPython.display import display,Markdown\n",
    "from analise_obras_df.analise import verifica_coluna\n",
    "from analise_obras_df.analise import sugere_conversao"
   ]
  },
  {
   "cell_type": "markdown",
   "id": "33a3e258",
   "metadata": {},
   "source": [
    "## 1. Extração de Dados\n",
    "\n",
    "O serviço da API é disponibilizado pela plataforma ObrasGov.br como uma solução tecnológica para a melhoria da governança dos investimentos federais em infraestrutura, por meio do acompanhamento e do monitoramento da execução dos investimentos em projetos de infraestrutura do Governo Federal. A plataforma reúne informações acerca:\n",
    "\n",
    "- Dados dos projetos de investimentos em infraestrutura;\n",
    "- Dados dos de georreferenciamento projetos de investimentos em infraestrutura;\n",
    "- Dados da Execução Física;\n",
    "- Dados de Execução Financeira;\n",
    "\n",
    "Para esse projeto, serão utilizados especificamente dados do endpoint \"/projeto-investimento\", com filtragem focada em informações sobre o Distrito Federal (DF).\n",
    "\n",
    "Para mais informações relevantes sobre a API acesso disponível em [ObrasGov.br](https://api.obrasgov.gestao.gov.br/obrasgov/api/swagger-ui/index.html#/Projeto%20De%20Investimento/buscarPorFiltro)\n",
    "\n",
    "\n",
    "No bloco abaixo organiza-se a URL base, endpoint e filtros. Tendo o endereço como base, é feita a requisição (GET)."
   ]
  },
  {
   "cell_type": "code",
   "execution_count": 2,
   "id": "f8fce7e4",
   "metadata": {},
   "outputs": [
    {
     "name": "stdout",
     "output_type": "stream",
     "text": [
      "Iniciando requisição para API com os parametros: {'uf': 'DF', 'pagina': 0, 'tamanhoDaPagina': 100, 'ordenacao': 'ID_UNICO'}\n",
      "Requisitando dados da url: https://api.obrasgov.gestao.gov.br/obrasgov/api/projeto-investimento?uf=DF&pagina=0&tamanhoDaPagina=100&ordenacao=ID_UNICO\n",
      "Conteúdo da pagina 0 coletado com sucesso. Total de obras acumuladas 100\n",
      "Atualizando pagina 0 -> 1\n",
      "Requisitando dados da url: https://api.obrasgov.gestao.gov.br/obrasgov/api/projeto-investimento?uf=DF&pagina=1&tamanhoDaPagina=100&ordenacao=ID_UNICO\n",
      "Conteúdo da pagina 1 coletado com sucesso. Total de obras acumuladas 200\n",
      "Atualizando pagina 1 -> 2\n",
      "Requisitando dados da url: https://api.obrasgov.gestao.gov.br/obrasgov/api/projeto-investimento?uf=DF&pagina=2&tamanhoDaPagina=100&ordenacao=ID_UNICO\n",
      "Servidor retornando erro 429 - Muitas requisições. Aguardando 30 segundos para nova tentativa\n",
      "Requisitando dados da url: https://api.obrasgov.gestao.gov.br/obrasgov/api/projeto-investimento?uf=DF&pagina=2&tamanhoDaPagina=100&ordenacao=ID_UNICO\n",
      "Servidor retornando erro 429 - Muitas requisições. Aguardando 60 segundos para nova tentativa\n",
      "Requisitando dados da url: https://api.obrasgov.gestao.gov.br/obrasgov/api/projeto-investimento?uf=DF&pagina=2&tamanhoDaPagina=100&ordenacao=ID_UNICO\n",
      "Servidor retornando erro 429 - Muitas requisições. Aguardando 90 segundos para nova tentativa\n",
      "Requisitando dados da url: https://api.obrasgov.gestao.gov.br/obrasgov/api/projeto-investimento?uf=DF&pagina=2&tamanhoDaPagina=100&ordenacao=ID_UNICO\n",
      "Conteúdo da pagina 2 coletado com sucesso. Total de obras acumuladas 300\n",
      "Atualizando pagina 2 -> 3\n",
      "Requisitando dados da url: https://api.obrasgov.gestao.gov.br/obrasgov/api/projeto-investimento?uf=DF&pagina=3&tamanhoDaPagina=100&ordenacao=ID_UNICO\n",
      "Servidor retornando erro 429 - Muitas requisições. Aguardando 30 segundos para nova tentativa\n",
      "Requisitando dados da url: https://api.obrasgov.gestao.gov.br/obrasgov/api/projeto-investimento?uf=DF&pagina=3&tamanhoDaPagina=100&ordenacao=ID_UNICO\n",
      "Servidor retornando erro 429 - Muitas requisições. Aguardando 60 segundos para nova tentativa\n",
      "Requisitando dados da url: https://api.obrasgov.gestao.gov.br/obrasgov/api/projeto-investimento?uf=DF&pagina=3&tamanhoDaPagina=100&ordenacao=ID_UNICO\n",
      "Conteúdo da pagina 3 coletado com sucesso. Total de obras acumuladas 400\n",
      "Atualizando pagina 3 -> 4\n",
      "Requisitando dados da url: https://api.obrasgov.gestao.gov.br/obrasgov/api/projeto-investimento?uf=DF&pagina=4&tamanhoDaPagina=100&ordenacao=ID_UNICO\n",
      "Servidor retornando erro 429 - Muitas requisições. Aguardando 30 segundos para nova tentativa\n",
      "Requisitando dados da url: https://api.obrasgov.gestao.gov.br/obrasgov/api/projeto-investimento?uf=DF&pagina=4&tamanhoDaPagina=100&ordenacao=ID_UNICO\n",
      "Conteúdo da pagina 4 coletado com sucesso. Total de obras acumuladas 500\n",
      "Atualizando pagina 4 -> 5\n",
      "Requisitando dados da url: https://api.obrasgov.gestao.gov.br/obrasgov/api/projeto-investimento?uf=DF&pagina=5&tamanhoDaPagina=100&ordenacao=ID_UNICO\n",
      "Conteúdo da pagina 5 coletado com sucesso. Total de obras acumuladas 600\n",
      "Atualizando pagina 5 -> 6\n",
      "Requisitando dados da url: https://api.obrasgov.gestao.gov.br/obrasgov/api/projeto-investimento?uf=DF&pagina=6&tamanhoDaPagina=100&ordenacao=ID_UNICO\n",
      "Servidor retornando erro 429 - Muitas requisições. Aguardando 30 segundos para nova tentativa\n",
      "Requisitando dados da url: https://api.obrasgov.gestao.gov.br/obrasgov/api/projeto-investimento?uf=DF&pagina=6&tamanhoDaPagina=100&ordenacao=ID_UNICO\n",
      "Servidor retornando erro 429 - Muitas requisições. Aguardando 60 segundos para nova tentativa\n",
      "Requisitando dados da url: https://api.obrasgov.gestao.gov.br/obrasgov/api/projeto-investimento?uf=DF&pagina=6&tamanhoDaPagina=100&ordenacao=ID_UNICO\n",
      "Conteúdo da pagina 6 coletado com sucesso. Total de obras acumuladas 700\n",
      "Atualizando pagina 6 -> 7\n",
      "Requisitando dados da url: https://api.obrasgov.gestao.gov.br/obrasgov/api/projeto-investimento?uf=DF&pagina=7&tamanhoDaPagina=100&ordenacao=ID_UNICO\n",
      "Conteúdo da pagina 7 coletado com sucesso. Total de obras acumuladas 800\n",
      "Atualizando pagina 7 -> 8\n",
      "Requisitando dados da url: https://api.obrasgov.gestao.gov.br/obrasgov/api/projeto-investimento?uf=DF&pagina=8&tamanhoDaPagina=100&ordenacao=ID_UNICO\n",
      "Conteúdo da pagina 8 coletado com sucesso. Total de obras acumuladas 834\n",
      "Atualizando pagina 8 -> 9\n",
      "Requisitando dados da url: https://api.obrasgov.gestao.gov.br/obrasgov/api/projeto-investimento?uf=DF&pagina=9&tamanhoDaPagina=100&ordenacao=ID_UNICO\n",
      "Nenhum resultado encontrado na pagina 9. Extração completa\n"
     ]
    }
   ],
   "source": [
    "URL_BASE = \"https://api.obrasgov.gestao.gov.br/obrasgov/api/projeto-investimento\"\n",
    "params_request = {\n",
    "    'uf': \"DF\",\n",
    "    'pagina': 0,\n",
    "    'tamanhoDaPagina': 100,\n",
    "    'ordenacao': 'ID_UNICO'\n",
    "}\n",
    "db_total = []\n",
    "db_metadados = []\n",
    "max_retries = 5\n",
    "count_retries = 0\n",
    "print(f\"Iniciando requisição para API com os parametros: {params_request}\")\n",
    "\n",
    "while True:\n",
    "    try:\n",
    "        response = requests.get(URL_BASE, params = params_request)\n",
    "        print(f\"Requisitando dados da url: {response.url}\")\n",
    "\n",
    "        response.raise_for_status()\n",
    "\n",
    "        pagina = response.json()\n",
    "        metadados_da_pagina = pagina.copy()\n",
    "        metadados_da_pagina.pop('content', None)\n",
    "        db_metadados.append(metadados_da_pagina)\n",
    "\n",
    "        \n",
    "\n",
    "        if pagina['content']:\n",
    "            db_total.extend(pagina['content'])\n",
    "            print(f\"Conteúdo da pagina {params_request['pagina']} coletado com sucesso. Total de obras acumuladas {len(db_total)}\")\n",
    "\n",
    "        else:\n",
    "            print(f\"Nenhum resultado encontrado na pagina {params_request['pagina']}. Extração completa\")\n",
    "            break\n",
    "\n",
    "        print(f\"Atualizando pagina {params_request['pagina']} -> {params_request['pagina']+1}\")\n",
    "        params_request['pagina'] += 1\n",
    "        count_retries = 0\n",
    "        time.sleep(20)\n",
    "\n",
    "    except requests.exceptions.HTTPError as http_erro:\n",
    "        status_code = http_erro.response.status_code\n",
    "        count_retries += 1\n",
    "\n",
    "        if count_retries > max_retries:\n",
    "            print(\"Finalizando processo de extraçao por excesso de erros.\")\n",
    "            break\n",
    "\n",
    "        if status_code == 429:\n",
    "            time_sleep = 60 * count_retries\n",
    "            print(f\"Servidor retornando erro {status_code} - Muitas requisições. Aguardando {time_sleep} segundos para nova tentativa\")\n",
    "            time.sleep(time_sleep)\n",
    "            continue\n",
    "        elif status_code >= 500:\n",
    "            time_sleep = 60\n",
    "            print(f\"Servidor retornando erro {status_code} - Erro no servidor. Aguardando {time_sleep} segundos para nova tentativa\")\n",
    "            time.sleep(time_sleep)\n",
    "            continue\n",
    "        else:\n",
    "            print(f\"Erro HTTP inesperado: {http_erro}. Finalizando processo de extração.\")\n",
    "            break\n",
    "\n",
    "    except requests.exceptions.RequestException as erro:\n",
    "        print(f\"Ocorreu um erro no processo de requisição: <{erro} >\")\n",
    "        print(f\"Processo de extração interrompido na pagina {params_request['pagina']}\")\n",
    "        break"
   ]
  },
  {
   "cell_type": "markdown",
   "id": "624c0567",
   "metadata": {},
   "source": [
    "### 1.1 Armazenamento (RAW)\n",
    "\n",
    " Nesse primeiro momento, os dados recebidos da requisição, serão armazenados em seu estado bruto, sem nenhum tratamento, na pasta 1-raw/"
   ]
  },
  {
   "cell_type": "code",
   "execution_count": 3,
   "id": "0c51b612",
   "metadata": {},
   "outputs": [
    {
     "data": {
      "text/markdown": [
       "Dados brutos armazenados com sucesso. Arquivo: obras_df_raw.json"
      ],
      "text/plain": [
       "<IPython.core.display.Markdown object>"
      ]
     },
     "metadata": {},
     "output_type": "display_data"
    },
    {
     "data": {
      "text/markdown": [
       "Metadados armazenados com sucesso. Arquivo: obras_df_metadados.json"
      ],
      "text/plain": [
       "<IPython.core.display.Markdown object>"
      ]
     },
     "metadata": {},
     "output_type": "display_data"
    }
   ],
   "source": [
    "raw_path = \"../data/1-raw/\"\n",
    "json_file = \"obras_df_raw.json\"\n",
    "\n",
    "meta_path = \"../data/1-raw/\"\n",
    "meta_file = \"obras_df_metadados.json\"\n",
    "\n",
    "try:\n",
    "    with open (raw_path+json_file, 'w', encoding = 'utf-8') as f:\n",
    "        json.dump(db_total, f, ensure_ascii=False, indent=4)\n",
    "        display(Markdown((f\"Dados brutos armazenados com sucesso. Arquivo: {json_file}\")))\n",
    "        \n",
    "except Exception as e:\n",
    "    print(f\"Erro ao armazenar dados brutos: <{e}>\")\n",
    "\n",
    "\n",
    "with open (meta_path+meta_file, 'w', encoding = 'utf-8') as f:\n",
    "    json.dump(db_metadados, f, ensure_ascii=False, indent=4)\n",
    "    display(Markdown((f\"Metadados armazenados com sucesso. Arquivo: {meta_file}\")))"
   ]
  },
  {
   "cell_type": "markdown",
   "id": "b4f8e41d",
   "metadata": {},
   "source": [
    "### 1.2 Carga e Estruturação dos Dados em um DataFrame\n",
    "Com os dados brutos devidamente armazenados, o próximo bloco é responsável por carregá-los em uma estrutura de dados que nos permita manipulá-los e analisá-los de forma eficiente. Para isso, utilizou-se a biblioteca `pandas` para converter a lista de obras em um **DataFrame**. "
   ]
  },
  {
   "cell_type": "code",
   "execution_count": 3,
   "id": "79b75b16",
   "metadata": {},
   "outputs": [
    {
     "data": {
      "text/markdown": [
       "Dados carregados na dataframe com sucesso"
      ],
      "text/plain": [
       "<IPython.core.display.Markdown object>"
      ]
     },
     "metadata": {},
     "output_type": "display_data"
    }
   ],
   "source": [
    "raw_path = \"../data/1-raw/\"\n",
    "json_file = \"obras_df_raw.json\"\n",
    "try: \n",
    "    with open(raw_path+json_file, 'r', encoding='utf-8') as f:\n",
    "        raw_data = json.load(f)\n",
    "\n",
    "    obras_DF = raw_data\n",
    "    df = pd.DataFrame(obras_DF)\n",
    "\n",
    "    display(Markdown((\"Dados carregados na dataframe com sucesso\")))\n",
    "\n",
    "except FileNotFoundError:\n",
    "    print(\"Arquivo não encontrado\")\n",
    "\n",
    "except Exception as e:\n",
    "    print(f\"Erro encontrado: <{e}>\")"
   ]
  },
  {
   "cell_type": "markdown",
   "id": "6f0dca74",
   "metadata": {},
   "source": [
    "## 2. Busca exploratória dos dados\n",
    "\n",
    "Esse tópico refere-se ao entendimento dos dados e contará com a abordagem descrita pela metodologia [**CRISP-DM**](https://www.datascience-pm.com/crisp-dm-2/) em seu tópico [**II. Data Understanding**](https://www.ibm.com/think/insights/data-quality-metrics). Portanto, após a etapa de coleta inicial dos dados, serão implementados os seguintes processos:\n",
    "- **Descrição dos Dados**: Nesse momento a database será examinada a fim de trazer suas propriedades superficiais. Métricas de qualidade de dados abordadas:\n",
    "- **Exploração dos Dados e Verificação da Qualidade dos Dados**: Etapa responsável por uma análise mais profunda, considerando as relações, regras de negócio e contexto aos quais os dados estão inseridos.\n",
    "  \n",
    "Para o processo de verificação da qualdiade dos Dados, a database será submetida a verificações, tomando como base as métricas de qualidade apresentadas por documentações disponibilizadas pela **IBM**:\n",
    "- **Data accuracy**: Data correctly represents real-world events and values.\n",
    "- **Data completeness**: Data contains all necessary records with no missing values.\n",
    "- **Data consistency**: Data is coherent and standardized across the organization, ensuring that data records in different datasets are compatible.\n",
    "- **Data timeliness**: Data values are up to date, allowing organizations to avoid making decisions based on stale information.\n",
    "- **Data uniqueness**: Data is free from redundancies or duplicate records, which can distort analysis.\n",
    "- **Data validity**: Data conforms to business rules, such as falling within permitted ranges for certain data values and meeting specified data format standards.\n",
    "\n",
    "Os processos mencionados acima serão organizados em duas fases principais de análise: **Análise Macroscópica**, a qual contém o processo de **Descriçao dos Dados** e **Análise Microscópica**, que englobará a **Exploração** e **Verificação da Qualidade** dos dados."
   ]
  },
  {
   "cell_type": "markdown",
   "id": "17b6ab41",
   "metadata": {},
   "source": [
    "### 2.1 Análise Macroscópica"
   ]
  },
  {
   "cell_type": "code",
   "execution_count": 4,
   "id": "be350e00",
   "metadata": {},
   "outputs": [
    {
     "data": {
      "text/markdown": [
       "\n",
       "### 2.1.1 Dimensões do Dataframe\n",
       "- **Total de Registros**: 834\n",
       "- **Total de Colunas**: 31\n"
      ],
      "text/plain": [
       "<IPython.core.display.Markdown object>"
      ]
     },
     "metadata": {},
     "output_type": "display_data"
    },
    {
     "data": {
      "text/markdown": [
       "### 2.1.2 Dicionário de Dados"
      ],
      "text/plain": [
       "<IPython.core.display.Markdown object>"
      ]
     },
     "metadata": {},
     "output_type": "display_data"
    },
    {
     "data": {
      "text/html": [
       "<div>\n",
       "<style scoped>\n",
       "    .dataframe tbody tr th:only-of-type {\n",
       "        vertical-align: middle;\n",
       "    }\n",
       "\n",
       "    .dataframe tbody tr th {\n",
       "        vertical-align: top;\n",
       "    }\n",
       "\n",
       "    .dataframe thead th {\n",
       "        text-align: right;\n",
       "    }\n",
       "</style>\n",
       "<table border=\"1\" class=\"dataframe\">\n",
       "  <thead>\n",
       "    <tr style=\"text-align: right;\">\n",
       "      <th></th>\n",
       "      <th>tipo</th>\n",
       "      <th>Valores Nulos</th>\n",
       "    </tr>\n",
       "  </thead>\n",
       "  <tbody>\n",
       "    <tr>\n",
       "      <th>dataFinalEfetiva</th>\n",
       "      <td>object</td>\n",
       "      <td>827</td>\n",
       "    </tr>\n",
       "    <tr>\n",
       "      <th>dataInicialEfetiva</th>\n",
       "      <td>object</td>\n",
       "      <td>804</td>\n",
       "    </tr>\n",
       "    <tr>\n",
       "      <th>observacoesPertinentes</th>\n",
       "      <td>object</td>\n",
       "      <td>709</td>\n",
       "    </tr>\n",
       "    <tr>\n",
       "      <th>populacaoBeneficiada</th>\n",
       "      <td>object</td>\n",
       "      <td>670</td>\n",
       "    </tr>\n",
       "    <tr>\n",
       "      <th>qdtEmpregosGerados</th>\n",
       "      <td>object</td>\n",
       "      <td>668</td>\n",
       "    </tr>\n",
       "    <tr>\n",
       "      <th>descPopulacaoBeneficiada</th>\n",
       "      <td>object</td>\n",
       "      <td>664</td>\n",
       "    </tr>\n",
       "    <tr>\n",
       "      <th>naturezaOutras</th>\n",
       "      <td>object</td>\n",
       "      <td>629</td>\n",
       "    </tr>\n",
       "    <tr>\n",
       "      <th>descPlanoNacionalPoliticaVinculado</th>\n",
       "      <td>object</td>\n",
       "      <td>558</td>\n",
       "    </tr>\n",
       "    <tr>\n",
       "      <th>cep</th>\n",
       "      <td>object</td>\n",
       "      <td>445</td>\n",
       "    </tr>\n",
       "    <tr>\n",
       "      <th>endereco</th>\n",
       "      <td>object</td>\n",
       "      <td>406</td>\n",
       "    </tr>\n",
       "    <tr>\n",
       "      <th>isModeladaPorBim</th>\n",
       "      <td>object</td>\n",
       "      <td>246</td>\n",
       "    </tr>\n",
       "    <tr>\n",
       "      <th>especie</th>\n",
       "      <td>object</td>\n",
       "      <td>4</td>\n",
       "    </tr>\n",
       "    <tr>\n",
       "      <th>dataInicialPrevista</th>\n",
       "      <td>object</td>\n",
       "      <td>2</td>\n",
       "    </tr>\n",
       "    <tr>\n",
       "      <th>dataFinalPrevista</th>\n",
       "      <td>object</td>\n",
       "      <td>2</td>\n",
       "    </tr>\n",
       "    <tr>\n",
       "      <th>metaGlobal</th>\n",
       "      <td>object</td>\n",
       "      <td>0</td>\n",
       "    </tr>\n",
       "    <tr>\n",
       "      <th>natureza</th>\n",
       "      <td>object</td>\n",
       "      <td>0</td>\n",
       "    </tr>\n",
       "    <tr>\n",
       "      <th>dataCadastro</th>\n",
       "      <td>object</td>\n",
       "      <td>0</td>\n",
       "    </tr>\n",
       "    <tr>\n",
       "      <th>funcaoSocial</th>\n",
       "      <td>object</td>\n",
       "      <td>0</td>\n",
       "    </tr>\n",
       "    <tr>\n",
       "      <th>idUnico</th>\n",
       "      <td>object</td>\n",
       "      <td>0</td>\n",
       "    </tr>\n",
       "    <tr>\n",
       "      <th>nome</th>\n",
       "      <td>object</td>\n",
       "      <td>0</td>\n",
       "    </tr>\n",
       "    <tr>\n",
       "      <th>descricao</th>\n",
       "      <td>object</td>\n",
       "      <td>0</td>\n",
       "    </tr>\n",
       "    <tr>\n",
       "      <th>uf</th>\n",
       "      <td>object</td>\n",
       "      <td>0</td>\n",
       "    </tr>\n",
       "    <tr>\n",
       "      <th>situacao</th>\n",
       "      <td>object</td>\n",
       "      <td>0</td>\n",
       "    </tr>\n",
       "    <tr>\n",
       "      <th>dataSituacao</th>\n",
       "      <td>object</td>\n",
       "      <td>0</td>\n",
       "    </tr>\n",
       "    <tr>\n",
       "      <th>tomadores</th>\n",
       "      <td>object</td>\n",
       "      <td>0</td>\n",
       "    </tr>\n",
       "    <tr>\n",
       "      <th>executores</th>\n",
       "      <td>object</td>\n",
       "      <td>0</td>\n",
       "    </tr>\n",
       "    <tr>\n",
       "      <th>repassadores</th>\n",
       "      <td>object</td>\n",
       "      <td>0</td>\n",
       "    </tr>\n",
       "    <tr>\n",
       "      <th>eixos</th>\n",
       "      <td>object</td>\n",
       "      <td>0</td>\n",
       "    </tr>\n",
       "    <tr>\n",
       "      <th>tipos</th>\n",
       "      <td>object</td>\n",
       "      <td>0</td>\n",
       "    </tr>\n",
       "    <tr>\n",
       "      <th>subTipos</th>\n",
       "      <td>object</td>\n",
       "      <td>0</td>\n",
       "    </tr>\n",
       "    <tr>\n",
       "      <th>fontesDeRecurso</th>\n",
       "      <td>object</td>\n",
       "      <td>0</td>\n",
       "    </tr>\n",
       "  </tbody>\n",
       "</table>\n",
       "</div>"
      ],
      "text/plain": [
       "                                      tipo  Valores Nulos\n",
       "dataFinalEfetiva                    object            827\n",
       "dataInicialEfetiva                  object            804\n",
       "observacoesPertinentes              object            709\n",
       "populacaoBeneficiada                object            670\n",
       "qdtEmpregosGerados                  object            668\n",
       "descPopulacaoBeneficiada            object            664\n",
       "naturezaOutras                      object            629\n",
       "descPlanoNacionalPoliticaVinculado  object            558\n",
       "cep                                 object            445\n",
       "endereco                            object            406\n",
       "isModeladaPorBim                    object            246\n",
       "especie                             object              4\n",
       "dataInicialPrevista                 object              2\n",
       "dataFinalPrevista                   object              2\n",
       "metaGlobal                          object              0\n",
       "natureza                            object              0\n",
       "dataCadastro                        object              0\n",
       "funcaoSocial                        object              0\n",
       "idUnico                             object              0\n",
       "nome                                object              0\n",
       "descricao                           object              0\n",
       "uf                                  object              0\n",
       "situacao                            object              0\n",
       "dataSituacao                        object              0\n",
       "tomadores                           object              0\n",
       "executores                          object              0\n",
       "repassadores                        object              0\n",
       "eixos                               object              0\n",
       "tipos                               object              0\n",
       "subTipos                            object              0\n",
       "fontesDeRecurso                     object              0"
      ]
     },
     "metadata": {},
     "output_type": "display_data"
    },
    {
     "data": {
      "text/markdown": [
       "### 2.1.3 Análise de Completude Geral"
      ],
      "text/plain": [
       "<IPython.core.display.Markdown object>"
      ]
     },
     "metadata": {},
     "output_type": "display_data"
    },
    {
     "data": {
      "image/png": "[encoded data removed]",
      "text/plain": [
       "<Figure size 1200x800 with 1 Axes>"
      ]
     },
     "metadata": {},
     "output_type": "display_data"
    },
    {
     "data": {
      "text/markdown": [
       "### 2.1.4 Análise de Unicidade Geral"
      ],
      "text/plain": [
       "<IPython.core.display.Markdown object>"
      ]
     },
     "metadata": {},
     "output_type": "display_data"
    },
    {
     "data": {
      "image/png": "[encoded data removed]",
      "text/plain": [
       "<Figure size 1000x600 with 1 Axes>"
      ]
     },
     "metadata": {},
     "output_type": "display_data"
    },
    {
     "data": {
      "text/markdown": [
       "Registros únicos: 750 (89.93%) \n",
       "\n",
       " Registros duplicados: 84 (10.07%)"
      ],
      "text/plain": [
       "<IPython.core.display.Markdown object>"
      ]
     },
     "metadata": {},
     "output_type": "display_data"
    }
   ],
   "source": [
    "nulos_por_coluna = {}\n",
    "df_temp = df.copy()\n",
    "colunas_unhashble = []\n",
    "for coluna in df.columns:\n",
    "    # Verifica colunas com características unhashble\n",
    "    if df[coluna].apply(lambda x: isinstance(x, (list, dict))).any():\n",
    "        # Converte a coluna para string para permitir a verificação de duplicatas\n",
    "        df_temp[coluna] = df_temp[coluna].astype('string')\n",
    "        colunas_unhashble.append(coluna)\n",
    "    # Verifica coluna por coluna a quantidade de valores nulos\n",
    "    nulos_por_coluna[coluna] = df[coluna].isnull().sum()\n",
    "\n",
    "# Gera nova dataframe sem as linhas que são clones perfeitos\n",
    "indices_limpos = df_temp.drop_duplicates().index\n",
    "df_limpa = df.loc[indices_limpos]\n",
    "\n",
    "# Apresentação dos resultados\n",
    "\n",
    "dicionario_df = pd.DataFrame(index=df.columns)\n",
    "dicionario_df['tipo'] = df.dtypes\n",
    "dicionario_df['Valores Nulos'] = nulos_por_coluna.values()\n",
    "\n",
    "nulos_series = pd.Series(nulos_por_coluna)\n",
    "porcentagem_nulos = (nulos_series / len(df)) * 100\n",
    "\n",
    "distribuicao_df = {}\n",
    "distribuicao_df['clones_perfeitos'] = (len(df) - len(df_limpa)) / len(df) * 100\n",
    "distribuicao_df['registros_unicos'] = (len(df_limpa)/ len(df) * 100)\n",
    "\n",
    "display(Markdown((f\"\"\"\n",
    "### 2.1.1 Dimensões do Dataframe\n",
    "- **Total de Registros**: {len(df)}\n",
    "- **Total de Colunas**: {len(df.columns)}\n",
    "\"\"\"\n",
    ")))\n",
    "display(Markdown(f\"### 2.1.2 Dicionário de Dados\"))\n",
    "display(dicionario_df.sort_values(by='Valores Nulos', ascending=False))\n",
    "\n",
    "\n",
    "display(Markdown(f\"### 2.1.3 Análise de Completude Geral\"))\n",
    "plt.figure(figsize=(12, 8))\n",
    "sns.barplot(x=porcentagem_nulos.values, y=nulos_series.index, hue=nulos_series.index, orient='h', palette='viridis', legend=False)\n",
    "plt.title('Porcentagem de Valores Nulos por Coluna', fontsize=16)\n",
    "plt.xlabel('Porcentagem (%)', fontsize=12)\n",
    "plt.ylabel('Colunas', fontsize=12)\n",
    "plt.grid(axis='x', linestyle='--', alpha=0.7)\n",
    "plt.show()\n",
    "\n",
    "display(Markdown(f\"### 2.1.4 Análise de Unicidade Geral\"))\n",
    "plt.figure(figsize=(10, 6))\n",
    "sns.barplot(x=list(distribuicao_df.keys()), y=list(distribuicao_df.values()), hue=list(distribuicao_df.keys()), palette='pastel', legend=False)\n",
    "plt.title('Distribuição de Registros na Dataframe', fontsize=16)\n",
    "plt.ylabel('Porcentagem (%)', fontsize=12)\n",
    "plt.xlabel('Categoria', fontsize=12)\n",
    "plt.ylim(0, 100)\n",
    "plt.grid(axis='y', linestyle='--', alpha=0.7)\n",
    "plt.show()\n",
    "\n",
    "display(Markdown(f\"Registros únicos: {len(df_limpa)} ({distribuicao_df['registros_unicos']:.2f}%) \\n\\n Registros duplicados: {len(df) - len(df_limpa)} ({distribuicao_df['clones_perfeitos']:.2f}%)\"))\n"
   ]
  },
  {
   "cell_type": "markdown",
   "id": "0b281690",
   "metadata": {},
   "source": [
    "A partir dos resultados acima, compreende-se que a estrutura da base de dados contém 31 colunas, demonstrando que há uma riqueza de detalhes sobre as obras. Além disso, há um total de 834 registros de obras relacionados a `uf = DF`.\n",
    "\n",
    "- Portando a dimensão da base de dados é definida por (linhas,colunas) = (834,31)\n",
    "\n",
    "Ademais, percebe-se que há colunas específicas com alta `taxa de nulidade´ . Isto posto, tem-se como hipótese inicial que os registros que possuem esses campos nulos se encontram em estágios de desenvolvimento diferente daqueles que os tem preenchidos. \n",
    "\n",
    "Acerca da `unicidade geral` da database, foram removidas as tuplas que fossem completamente clones, concluindo a primeira etapa de tratamento dos dados. O total de linhas duplicadas era de `84`, restando assim `750` registros da dataframe limpa.\n",
    "\n",
    "O último resultado demonstrou que foram atribuídas (pela ferramenta `info()`) a tipagem `object` para a totalidade das colunas. O comportamento não é completamente fora do esperado e sinaliza a necessidade mais crítica de tratamento e conversão dos dados. Para uma primeira análise, superficial, a função sugere_conversão infere a melhor tipagem a se atribuir para cada coluna, embora não gere resultados para colunas com características unhashble.\n"
   ]
  },
  {
   "cell_type": "code",
   "execution_count": 5,
   "id": "86067faa",
   "metadata": {},
   "outputs": [
    {
     "data": {
      "text/markdown": [
       "#### Sugestões de Tipos de Dados:"
      ],
      "text/plain": [
       "<IPython.core.display.Markdown object>"
      ]
     },
     "metadata": {},
     "output_type": "display_data"
    },
    {
     "data": {
      "text/html": [
       "<div>\n",
       "<style scoped>\n",
       "    .dataframe tbody tr th:only-of-type {\n",
       "        vertical-align: middle;\n",
       "    }\n",
       "\n",
       "    .dataframe tbody tr th {\n",
       "        vertical-align: top;\n",
       "    }\n",
       "\n",
       "    .dataframe thead th {\n",
       "        text-align: right;\n",
       "    }\n",
       "</style>\n",
       "<table border=\"1\" class=\"dataframe\">\n",
       "  <thead>\n",
       "    <tr style=\"text-align: right;\">\n",
       "      <th></th>\n",
       "      <th>Tipo Sugerido</th>\n",
       "    </tr>\n",
       "  </thead>\n",
       "  <tbody>\n",
       "    <tr>\n",
       "      <th>idUnico</th>\n",
       "      <td>string</td>\n",
       "    </tr>\n",
       "    <tr>\n",
       "      <th>nome</th>\n",
       "      <td>string</td>\n",
       "    </tr>\n",
       "    <tr>\n",
       "      <th>cep</th>\n",
       "      <td>string</td>\n",
       "    </tr>\n",
       "    <tr>\n",
       "      <th>endereco</th>\n",
       "      <td>string</td>\n",
       "    </tr>\n",
       "    <tr>\n",
       "      <th>descricao</th>\n",
       "      <td>string</td>\n",
       "    </tr>\n",
       "    <tr>\n",
       "      <th>funcaoSocial</th>\n",
       "      <td>string</td>\n",
       "    </tr>\n",
       "    <tr>\n",
       "      <th>metaGlobal</th>\n",
       "      <td>string</td>\n",
       "    </tr>\n",
       "    <tr>\n",
       "      <th>dataInicialPrevista</th>\n",
       "      <td>datetime64[ns]</td>\n",
       "    </tr>\n",
       "    <tr>\n",
       "      <th>dataFinalPrevista</th>\n",
       "      <td>datetime64[ns]</td>\n",
       "    </tr>\n",
       "    <tr>\n",
       "      <th>dataInicialEfetiva</th>\n",
       "      <td>datetime64[ns]</td>\n",
       "    </tr>\n",
       "    <tr>\n",
       "      <th>dataFinalEfetiva</th>\n",
       "      <td>datetime64[ns]</td>\n",
       "    </tr>\n",
       "    <tr>\n",
       "      <th>dataCadastro</th>\n",
       "      <td>datetime64[ns]</td>\n",
       "    </tr>\n",
       "    <tr>\n",
       "      <th>especie</th>\n",
       "      <td>category</td>\n",
       "    </tr>\n",
       "    <tr>\n",
       "      <th>natureza</th>\n",
       "      <td>category</td>\n",
       "    </tr>\n",
       "    <tr>\n",
       "      <th>naturezaOutras</th>\n",
       "      <td>string</td>\n",
       "    </tr>\n",
       "    <tr>\n",
       "      <th>situacao</th>\n",
       "      <td>category</td>\n",
       "    </tr>\n",
       "    <tr>\n",
       "      <th>descPlanoNacionalPoliticaVinculado</th>\n",
       "      <td>string</td>\n",
       "    </tr>\n",
       "    <tr>\n",
       "      <th>uf</th>\n",
       "      <td>category</td>\n",
       "    </tr>\n",
       "    <tr>\n",
       "      <th>qdtEmpregosGerados</th>\n",
       "      <td>string</td>\n",
       "    </tr>\n",
       "    <tr>\n",
       "      <th>descPopulacaoBeneficiada</th>\n",
       "      <td>string</td>\n",
       "    </tr>\n",
       "    <tr>\n",
       "      <th>populacaoBeneficiada</th>\n",
       "      <td>string</td>\n",
       "    </tr>\n",
       "    <tr>\n",
       "      <th>observacoesPertinentes</th>\n",
       "      <td>category</td>\n",
       "    </tr>\n",
       "    <tr>\n",
       "      <th>isModeladaPorBim</th>\n",
       "      <td>int64</td>\n",
       "    </tr>\n",
       "    <tr>\n",
       "      <th>dataSituacao</th>\n",
       "      <td>datetime64[ns]</td>\n",
       "    </tr>\n",
       "    <tr>\n",
       "      <th>tomadores</th>\n",
       "      <td>Unhashable</td>\n",
       "    </tr>\n",
       "    <tr>\n",
       "      <th>executores</th>\n",
       "      <td>Unhashable</td>\n",
       "    </tr>\n",
       "    <tr>\n",
       "      <th>repassadores</th>\n",
       "      <td>Unhashable</td>\n",
       "    </tr>\n",
       "    <tr>\n",
       "      <th>eixos</th>\n",
       "      <td>Unhashable</td>\n",
       "    </tr>\n",
       "    <tr>\n",
       "      <th>tipos</th>\n",
       "      <td>Unhashable</td>\n",
       "    </tr>\n",
       "    <tr>\n",
       "      <th>subTipos</th>\n",
       "      <td>Unhashable</td>\n",
       "    </tr>\n",
       "    <tr>\n",
       "      <th>fontesDeRecurso</th>\n",
       "      <td>Unhashable</td>\n",
       "    </tr>\n",
       "  </tbody>\n",
       "</table>\n",
       "</div>"
      ],
      "text/plain": [
       "                                     Tipo Sugerido\n",
       "idUnico                                     string\n",
       "nome                                        string\n",
       "cep                                         string\n",
       "endereco                                    string\n",
       "descricao                                   string\n",
       "funcaoSocial                                string\n",
       "metaGlobal                                  string\n",
       "dataInicialPrevista                 datetime64[ns]\n",
       "dataFinalPrevista                   datetime64[ns]\n",
       "dataInicialEfetiva                  datetime64[ns]\n",
       "dataFinalEfetiva                    datetime64[ns]\n",
       "dataCadastro                        datetime64[ns]\n",
       "especie                                   category\n",
       "natureza                                  category\n",
       "naturezaOutras                              string\n",
       "situacao                                  category\n",
       "descPlanoNacionalPoliticaVinculado          string\n",
       "uf                                        category\n",
       "qdtEmpregosGerados                          string\n",
       "descPopulacaoBeneficiada                    string\n",
       "populacaoBeneficiada                        string\n",
       "observacoesPertinentes                    category\n",
       "isModeladaPorBim                             int64\n",
       "dataSituacao                        datetime64[ns]\n",
       "tomadores                               Unhashable\n",
       "executores                              Unhashable\n",
       "repassadores                            Unhashable\n",
       "eixos                                   Unhashable\n",
       "tipos                                   Unhashable\n",
       "subTipos                                Unhashable\n",
       "fontesDeRecurso                         Unhashable"
      ]
     },
     "metadata": {},
     "output_type": "display_data"
    }
   ],
   "source": [
    "import warnings\n",
    "warnings.filterwarnings(\n",
    "    'ignore', \n",
    "    message=\"Could not infer format, so each element will be parsed individually.*\"\n",
    ")\n",
    "\n",
    "display(Markdown(\"#### Sugestões de Tipos de Dados:\"))\n",
    "\n",
    "sugestoes = {coluna: sugere_conversao(df_limpa[coluna]) for coluna in df_limpa.columns}\n",
    "dataframe_sugestoes = pd.DataFrame.from_dict(sugestoes, orient='index', columns=['Tipo Sugerido'])\n",
    "\n",
    "display(dataframe_sugestoes)"
   ]
  },
  {
   "cell_type": "markdown",
   "id": "9803aed7",
   "metadata": {},
   "source": [
    "### 2.2 Análise Microscópica"
   ]
  },
  {
   "cell_type": "markdown",
   "id": "a58a743d",
   "metadata": {},
   "source": [
    "#### 2.2.1 Coluna [idUnico]"
   ]
  },
  {
   "cell_type": "code",
   "execution_count": 6,
   "id": "0eee37c9",
   "metadata": {},
   "outputs": [
    {
     "name": "stdout",
     "output_type": "stream",
     "text": [
      "['50379.53-54' '42724.53-27' '19970.53-78' '24797.53-15' '24822.53-70'\n",
      " '4541.53-44' '4545.53-03' '4546.53-60' '21324.53-75' '21327.53-34']\n"
     ]
    },
    {
     "data": {
      "image/png": "[encoded data removed]",
      "text/plain": [
       "<Figure size 1000x600 with 1 Axes>"
      ]
     },
     "metadata": {},
     "output_type": "display_data"
    },
    {
     "data": {
      "text/markdown": [
       "Coluna **idUnico** possui 750 valores preenchidos, correspondendo a 100.00% do total de registros."
      ],
      "text/plain": [
       "<IPython.core.display.Markdown object>"
      ]
     },
     "metadata": {},
     "output_type": "display_data"
    },
    {
     "data": {
      "text/markdown": [
       "Coluna **idUnico** possui 0 valores nulos, correspondendo a 0.00% do total de registros."
      ],
      "text/plain": [
       "<IPython.core.display.Markdown object>"
      ]
     },
     "metadata": {},
     "output_type": "display_data"
    },
    {
     "data": {
      "image/png": "[encoded data removed]",
      "text/plain": [
       "<Figure size 1000x600 with 1 Axes>"
      ]
     },
     "metadata": {},
     "output_type": "display_data"
    },
    {
     "data": {
      "text/markdown": [
       "Coluna **idUnico** possui 719 valores únicos, correspondendo a 95.87% do total de registros."
      ],
      "text/plain": [
       "<IPython.core.display.Markdown object>"
      ]
     },
     "metadata": {},
     "output_type": "display_data"
    },
    {
     "data": {
      "text/markdown": [
       "Coluna **idUnico** possui 31 valores duplicados, correspondendo a 4.13% do total de registros."
      ],
      "text/plain": [
       "<IPython.core.display.Markdown object>"
      ]
     },
     "metadata": {},
     "output_type": "display_data"
    }
   ],
   "source": [
    "coluna = 'idUnico'\n",
    "completude_coluna, unicidade_coluna = verifica_coluna(coluna,df_limpa)\n",
    "\n",
    "plt.figure(figsize=(10, 6))\n",
    "sns.barplot(x=list(completude_coluna.keys()), y=list(completude_coluna.values()), hue=list(completude_coluna.keys()), palette='pastel', legend=False)\n",
    "plt.title(f'Análise de Completude na coluna {coluna}', fontsize=16)\n",
    "plt.ylabel('Porcentagem (%)', fontsize=12)\n",
    "plt.xlabel('Categoria', fontsize=12)\n",
    "plt.ylim(0, 100)\n",
    "plt.grid(axis='y', linestyle='--', alpha=0.7)\n",
    "plt.show()\n",
    "display(Markdown(f\"Coluna **{coluna}** possui {completude_coluna['Valores Não Nulos']} valores preenchidos, correspondendo a {completude_coluna['Valores Não Nulos'] / df_limpa[coluna].count() * 100:.2f}% do total de registros.\"))\n",
    "display(Markdown(f\"Coluna **{coluna}** possui {completude_coluna['Valores Nulos']} valores nulos, correspondendo a {completude_coluna['Valores Nulos'] / df_limpa[coluna].count() * 100:.2f}% do total de registros.\"))\n",
    "\n",
    "plt.figure(figsize=(10, 6))\n",
    "sns.barplot(x=list(unicidade_coluna.keys()), y=list(unicidade_coluna.values()), hue=list(unicidade_coluna.keys()), palette='pastel', legend=False)\n",
    "plt.title(f'Análise de Unicidade na coluna {coluna}', fontsize=16)\n",
    "plt.ylabel('Quantidade', fontsize=12)\n",
    "plt.xlabel('Categoria', fontsize=12)\n",
    "plt.ylim(0, df[coluna].count())\n",
    "plt.grid(axis='y', linestyle='--', alpha=0.7)\n",
    "plt.show()\n",
    "display(Markdown(f\"Coluna **{coluna}** possui {unicidade_coluna['Valores Únicos']} valores únicos, correspondendo a {unicidade_coluna['Valores Únicos'] / df_limpa[coluna].count() * 100:.2f}% do total de registros.\"))\n",
    "display(Markdown(f\"Coluna **{coluna}** possui {unicidade_coluna['Valores Duplicados']} valores duplicados, correspondendo a {unicidade_coluna['Valores Duplicados'] / df_limpa[coluna].count() * 100:.2f}% do total de registros.\"))"
   ]
  },
  {
   "cell_type": "markdown",
   "id": "e3edd611",
   "metadata": {},
   "source": [
    "O primeiro resultado interessante que pode-se analizar, é que a partir do padrão dos 10 primeiros valores preenchidos nessa coluna, é possivel declarar que a melhor tipagem a se atribuir  é de fato `string`. O motivo para essa conclusão, é o fato de haver uma mesclagem entre caracteres alfanuméricos.\n",
    "\n",
    "Após verificado o aspecto tipagem da coluna, a partir dos resultados é viável fazer mais algumas inferências sobre os dados. Os resultados demonstram que a coluna `idUnica` não assume completamente o papel de idenficador dentro da database, como presumia-se a princípio. Enquanto a coluna possui seus valores preenchidos integralmente, com uma taxa de nulidade equivalente a 0%, há um fato curioso que merece atenção:\n",
    "\n",
    "-  **Resultado**: `Quantidade de valores duplicados na coluna [idUnico]: 31`\n",
    "\n",
    "Todas os registros completamente clonados foram retirados para uma análise mais limpa, porém ainda sim há valores duplicados na coluna `idUnico`. Isto posto, primeiro será feita a conversão do tipo `object` para `string`. Após isso, mais alguns processos investigativos serão feitos com o objetivo de determinar o perfil dessas duplicatas."
   ]
  },
  {
   "cell_type": "code",
   "execution_count": 7,
   "id": "65ba9d59",
   "metadata": {},
   "outputs": [
    {
     "name": "stdout",
     "output_type": "stream",
     "text": [
      "Sucesso. Nova tipagem atribuída para a tabela [idUnico]: object\n"
     ]
    },
    {
     "data": {
      "text/plain": [
       "<IntegerArray>\n",
       "[2]\n",
       "Length: 1, dtype: Int64"
      ]
     },
     "metadata": {},
     "output_type": "display_data"
    },
    {
     "name": "stdout",
     "output_type": "stream",
     "text": [
      "Frequência em que os casos de duplicatas ocorrem:\n",
      " count\n",
      "2    31\n",
      "Name: count, dtype: Int64\n"
     ]
    },
    {
     "data": {
      "text/plain": [
       "idUnico\n",
       "False    688\n",
       "True      62\n",
       "Name: count, dtype: int64"
      ]
     },
     "metadata": {},
     "output_type": "display_data"
    }
   ],
   "source": [
    "# Conversão object -> string:\n",
    "df_limpa['idUnico'] = df_limpa['idUnico'].astype('string')\n",
    "print(f\"Sucesso. Nova tipagem atribuída para a tabela [idUnico]: {df['idUnico'].dtype}\")\n",
    "\n",
    "# Verificação de duplicatas:\n",
    "display((df_limpa[df_limpa['idUnico'].duplicated(keep=False)]['idUnico'].value_counts()).unique())\n",
    "print(f\"Frequência em que os casos de duplicatas ocorrem:\\n {df_limpa[df_limpa['idUnico'].duplicated(keep=False)]['idUnico'].value_counts().value_counts()}\")\n",
    "display(df_limpa['idUnico'].duplicated(keep=False).value_counts())\n"
   ]
  },
  {
   "cell_type": "markdown",
   "id": "3e55dbaf",
   "metadata": {},
   "source": [
    " O ultimo resultado trouxe mais algumas informações importantes acerca do perfil da coluna idUnico. Em síntese, tem-se que:\n",
    " - **Escala Original**: Foram identificados `31` idUnico distintos que possuem valores duplicados.\n",
    " - **Escala Total**: Ao total, indentificou-se `62` valores envolvidos nos casos de duplicatas (**Originais**: `31`, **Duplicatas**: `31`)\n",
    " - **Padrão dos Casos de Repetição**: Dentre os casos de duplicatas, descobriu-se que os valores de `idUnico` se repetem apenas `1` vez. Observa-se a proporção de 1:1.\n",
    "\n",
    "Diante disso, sabe-se que muito provavelmente esses valores indicam algo sobre os padrões e regras de negócio aplicadas a database. Portanto, para encontrar mais detalhes sobre o contexto, o próximo passo é comparar paralelamente os registros duplicados, a fim de encontrar os campos modificados."
   ]
  },
  {
   "cell_type": "code",
   "execution_count": 8,
   "id": "7b9d1d1d",
   "metadata": {},
   "outputs": [
    {
     "data": {
      "text/plain": [
       "idUnico                                0\n",
       "nome                                   0\n",
       "cep                                   19\n",
       "endereco                              18\n",
       "descricao                              0\n",
       "funcaoSocial                           0\n",
       "metaGlobal                             0\n",
       "dataInicialPrevista                    0\n",
       "dataFinalPrevista                      0\n",
       "dataInicialEfetiva                    29\n",
       "dataFinalEfetiva                      30\n",
       "dataCadastro                           0\n",
       "especie                                0\n",
       "natureza                               0\n",
       "naturezaOutras                        28\n",
       "situacao                               0\n",
       "descPlanoNacionalPoliticaVinculado    24\n",
       "uf                                     0\n",
       "qdtEmpregosGerados                    29\n",
       "descPopulacaoBeneficiada              29\n",
       "populacaoBeneficiada                  29\n",
       "observacoesPertinentes                31\n",
       "isModeladaPorBim                       5\n",
       "dataSituacao                           0\n",
       "tomadores                              0\n",
       "executores                             0\n",
       "repassadores                           0\n",
       "eixos                                  0\n",
       "tipos                                  0\n",
       "subTipos                              31\n",
       "fontesDeRecurso                        0\n",
       "dtype: int64"
      ]
     },
     "execution_count": 8,
     "metadata": {},
     "output_type": "execute_result"
    }
   ],
   "source": [
    "grupo_id_duplicados = (df_limpa[df_limpa['idUnico'].duplicated(keep=False)]).groupby('idUnico')\n",
    "resumo_diference = []\n",
    "for id_unico, grupo in grupo_id_duplicados:\n",
    "    diference = grupo.iloc[0] != grupo.iloc[1]\n",
    "    resumo_diference.append(diference)\n",
    "\n",
    "df_resumo_diference = pd.DataFrame(resumo_diference)\n",
    "df_resumo_diference.sum()"
   ]
  },
  {
   "cell_type": "markdown",
   "id": "043204a3",
   "metadata": {},
   "source": [
    "Os resultados acima apresentam informações sobre quantas vezes cada coluna foi modificada entre os 58 casos de duplicatas. \n",
    "\n",
    "No casos de clonagem da coluna `idUnico`, tem-se o registro original e o registro posterior, formando um par. Assim, levando em consideração os resultados coletados até o momento, é factível realizar a seguinte inferência:\n",
    "\n",
    "- A primeira ocorrência de um idUnico representa o cadastro inicial, contendo as informações básicas da obra. A segunda ocorrência, que é criada utilizando o mesmo idUnico, funciona como uma atualização de status ou um registro de conclusão da obra. Os campos que contém a maior frequência de modificação durante esse processo são:\n",
    "  \n",
    "  - DataInicialEfetiva\n",
    "  - DataFinalEfetiva\n",
    "  - descPlanoNacionalPoliticaVinculado\n",
    "  - qtdEmpregosGerados\n",
    "  - descPopulacaoBeneficiada\n",
    "  - observacoesPertinentes\n",
    "  - subTipos\n",
    "\n",
    "\n"
   ]
  },
  {
   "cell_type": "markdown",
   "id": "077f9523",
   "metadata": {},
   "source": []
  }
 ],
 "metadata": {
  "kernelspec": {
   "display_name": ".venv (3.12.9)",
   "language": "python",
   "name": "python3"
  },
  "language_info": {
   "codemirror_mode": {
    "name": "ipython",
    "version": 3
   },
   "file_extension": ".py",
   "mimetype": "text/x-python",
   "name": "python",
   "nbconvert_exporter": "python",
   "pygments_lexer": "ipython3",
   "version": "3.12.9"
  }
 },
 "nbformat": 4,
 "nbformat_minor": 5
}
